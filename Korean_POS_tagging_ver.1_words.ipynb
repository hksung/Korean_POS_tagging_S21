{
  "nbformat": 4,
  "nbformat_minor": 0,
  "metadata": {
    "colab": {
      "name": "Korean_POS_tagging_practice1_(1).ipynb의 사본",
      "provenance": [],
      "collapsed_sections": []
    },
    "kernelspec": {
      "name": "python3",
      "display_name": "Python 3"
    },
    "language_info": {
      "name": "python"
    }
  },
  "cells": [
    {
      "cell_type": "markdown",
      "metadata": {
        "id": "t60EWtX8JFxC"
      },
      "source": [
        "**[Step 1]** Upload the file(\"ko_kaist-du-train.conllu.txt\") and read it.\n"
      ]
    },
    {
      "cell_type": "code",
      "metadata": {
        "colab": {
          "base_uri": "https://localhost:8080/"
        },
        "id": "Ndc9HHnrFTTv",
        "outputId": "5a12ad44-699a-4742-f214-3af2fce117b2"
      },
      "source": [
        "f = open('ko_kaist-ud-train.conllu.txt', 'r', encoding='utf-8') # encoding='utf-8' : Korean data set\n",
        "\n",
        "f_lines = f.readlines() #read by lines\n",
        "f.close()\n",
        "\n",
        "len(f_lines) #365476\n",
        "f_lines[:10] #sample_test_lines"
      ],
      "execution_count": null,
      "outputs": [
        {
          "output_type": "execute_result",
          "data": {
            "text/plain": [
              "['# sent_id = M2TA_064-s1\\n',\n",
              " '# text = 하기야 짐승도 잘 가르치기만 하면 어느 정도는 순치될 수 있다.\\n',\n",
              " '1\\t하기야\\t하기야\\tCCONJ\\tmaj\\t_\\t8\\tcc\\t_\\t_\\n',\n",
              " '2\\t짐승도\\t짐승+도\\tADV\\tncn+jxc\\t_\\t8\\tadvcl\\t_\\t_\\n',\n",
              " '3\\t잘\\t잘\\tADV\\tmag\\t_\\t4\\tadvmod\\t_\\t_\\n',\n",
              " '4\\t가르치기만\\t가르치+기+만\\tADV\\tpvg+etn+jxc\\t_\\t5\\tadvcl\\t_\\t_\\n',\n",
              " '5\\t하면\\t하+면\\tSCONJ\\tpvg+ecs\\t_\\t8\\tccomp\\t_\\t_\\n',\n",
              " '6\\t어느\\t어느\\tDET\\tmmd\\t_\\t7\\tdet\\t_\\t_\\n',\n",
              " '7\\t정도는\\t정도+는\\tNOUN\\tncn+jxt\\t_\\t8\\tdislocated\\t_\\t_\\n',\n",
              " '8\\t순치될\\t순치+되+ㄹ\\tVERB\\tncpa+xsv+etm\\t_\\t0\\troot\\t_\\t_\\n']"
            ]
          },
          "metadata": {
            "tags": []
          },
          "execution_count": 139
        }
      ]
    },
    {
      "cell_type": "code",
      "metadata": {
        "colab": {
          "base_uri": "https://localhost:8080/"
        },
        "id": "CzeOquW89sg0",
        "outputId": "217bacef-4384-4b69-b7e6-56ea0cd82190"
      },
      "source": [
        "f_lines[25:35] #check that some datas '\\n' and '# sent (or text)...' have to be deleted"
      ],
      "execution_count": null,
      "outputs": [
        {
          "output_type": "execute_result",
          "data": {
            "text/plain": [
              "['10\\t.\\t.\\tPUNCT\\tsf\\t_\\t9\\tpunct\\t_\\t_\\n',\n",
              " '\\n',\n",
              " '# sent_id = M2TA_064-s3\\n',\n",
              " '# text = 뭇 짐승들은 일단 배만 부르면 더 이상의 탐욕을 부리지 않는다.\\n',\n",
              " '1\\t뭇\\t뭇\\tADJ\\tmma\\t_\\t2\\tamod\\t_\\t_\\n',\n",
              " '2\\t짐승들은\\t짐승+들+은\\tNOUN\\tncn+xsn+jxt\\t_\\t9\\tdislocated\\t_\\t_\\n',\n",
              " '3\\t일단\\t일단\\tADV\\tmag\\t_\\t5\\tadvmod\\t_\\t_\\n',\n",
              " '4\\t배만\\t배+만\\tADV\\tncn+jxc\\t_\\t5\\tadvcl\\t_\\t_\\n',\n",
              " '5\\t부르면\\t부르+면\\tSCONJ\\tpaa+ecs\\t_\\t9\\txcomp\\t_\\t_\\n',\n",
              " '6\\t더\\t더\\tADV\\tmag\\t_\\t7\\tadvmod\\t_\\t_\\n']"
            ]
          },
          "metadata": {
            "tags": []
          },
          "execution_count": 140
        }
      ]
    },
    {
      "cell_type": "code",
      "metadata": {
        "id": "pym53fcI4CPd"
      },
      "source": [
        "index = []\n",
        "word = []\n",
        "pos = []\n",
        "\n",
        "for i, line in enumerate(lines):\n",
        "    line = line.strip() # delete '\\n'\n",
        "    splits = line.split('\\t') # split by '\\t'\n",
        "\n",
        "    if len(splits) > 2: # filter '\\n\\'\n",
        "        try:\n",
        "            idx = int(splits[0]) # filter 'data starting with '#'\n",
        "            index.append(idx)\n",
        "            word.append(splits[1])\n",
        "            pos.append(splits[3])\n",
        "\n",
        "        except:\n",
        "            print(i, index[-5:], word[-5:], pos[-5:])\n",
        "            print(line) #check if there is an error in idx\n",
        "            # or use print(set(index))"
      ],
      "execution_count": null,
      "outputs": []
    },
    {
      "cell_type": "code",
      "metadata": {
        "colab": {
          "base_uri": "https://localhost:8080/"
        },
        "id": "G2QJ145p73r2",
        "outputId": "51d472da-ac22-42e0-fba9-f32db255ff47"
      },
      "source": [
        "print(index[:20])\n",
        "print(word[:20])\n",
        "print(pos[:20])\n",
        "\n",
        "#check\n",
        "len(index) #296446\n",
        "len(word) #296446\n",
        "len(pos) #296446\n",
        "print(set(index))"
      ],
      "execution_count": null,
      "outputs": [
        {
          "output_type": "stream",
          "text": [
            "[1, 2, 3, 4, 5, 6, 7, 8, 9, 10, 11, 1, 2, 3, 4, 5, 6, 7, 8, 9]\n",
            "['하기야', '짐승도', '잘', '가르치기만', '하면', '어느', '정도는', '순치될', '수', '있다', '.', '사람이', '스스로', '만물의', '영장이라', '하고', '우쭐대는', '까닭이', '여기에', '있다']\n",
            "['CCONJ', 'ADV', 'ADV', 'ADV', 'SCONJ', 'DET', 'NOUN', 'VERB', 'NOUN', 'ADJ', 'PUNCT', 'NOUN', 'ADV', 'NOUN', 'SCONJ', 'SCONJ', 'VERB', 'NOUN', 'ADV', 'ADJ']\n",
            "{1, 2, 3, 4, 5, 6, 7, 8, 9, 10, 11, 12, 13, 14, 15, 16, 17, 18, 19, 20, 21, 22, 23, 24, 25, 26, 27, 28, 29, 30, 31, 32, 33, 34, 35, 36, 37, 38, 39, 40, 41, 42, 43, 44}\n"
          ],
          "name": "stdout"
        }
      ]
    },
    {
      "cell_type": "code",
      "metadata": {
        "colab": {
          "base_uri": "https://localhost:8080/"
        },
        "id": "FMl9KG4rKI2s",
        "outputId": "f0486dd3-cd70-41f9-aba3-06703be663e6"
      },
      "source": [
        "len(index)"
      ],
      "execution_count": null,
      "outputs": [
        {
          "output_type": "execute_result",
          "data": {
            "text/plain": [
              "296446"
            ]
          },
          "metadata": {
            "tags": []
          },
          "execution_count": 142
        }
      ]
    },
    {
      "cell_type": "markdown",
      "metadata": {
        "id": "piLQQn3yJccY"
      },
      "source": [
        "**[Step 2]** Format the data\n",
        "1. Represent the data as a list of dictionaries\n",
        "2. Represent words as dictionaries with multiple features"
      ]
    },
    {
      "cell_type": "code",
      "metadata": {
        "id": "LWablQWF88-e"
      },
      "source": [
        "input_data = [] #total test sentences\n",
        "\n",
        "sent = [] #iterate through sentence\n",
        "i = 0\n",
        "pos_index = 0\n",
        "\n",
        "while (i < len(index)):\n",
        "    if (int(index[i])) == pos_index + 1:\n",
        "          sent.append({\"word\" :word[i], \"pos\" :pos[i]})\n",
        "          pos_index += 1\n",
        "          i = i +1\n",
        "    else:\n",
        "        if sent:\n",
        "            input_data.append(sent) #to filterout empty index\n",
        "        else:\n",
        "            i = i +1\n",
        "        pos_index = 0 #new sentence, make the number of sentence to default number\n",
        "        sent = []\n",
        "        if i == (len(index)-1):\n",
        "            break\n",
        "    \n",
        "    if i % 10000 == 0:\n",
        "        print (i, len(index)) #check if there is no infinite loop"
      ],
      "execution_count": null,
      "outputs": []
    },
    {
      "cell_type": "code",
      "metadata": {
        "colab": {
          "base_uri": "https://localhost:8080/"
        },
        "id": "VJmyF4hEA4JA",
        "outputId": "0014a42f-d43e-4e3a-ebc1-7170dd2f1136"
      },
      "source": [
        "len(input_data) #23009 (the number of total sentences, average 12.8 words for a sentence)"
      ],
      "execution_count": null,
      "outputs": [
        {
          "output_type": "execute_result",
          "data": {
            "text/plain": [
              "23009"
            ]
          },
          "metadata": {
            "tags": []
          },
          "execution_count": 144
        }
      ]
    },
    {
      "cell_type": "code",
      "metadata": {
        "colab": {
          "base_uri": "https://localhost:8080/"
        },
        "id": "IGQXCPh0A_fF",
        "outputId": "12ee87a5-4f03-49fe-e7c4-87036ff0cdb4"
      },
      "source": [
        "print (input_data[1][:10])"
      ],
      "execution_count": null,
      "outputs": [
        {
          "output_type": "stream",
          "text": [
            "[{'word': '사람이', 'pos': 'NOUN'}, {'word': '스스로', 'pos': 'ADV'}, {'word': '만물의', 'pos': 'NOUN'}, {'word': '영장이라', 'pos': 'SCONJ'}, {'word': '하고', 'pos': 'SCONJ'}, {'word': '우쭐대는', 'pos': 'VERB'}, {'word': '까닭이', 'pos': 'NOUN'}, {'word': '여기에', 'pos': 'ADV'}, {'word': '있다', 'pos': 'ADJ'}, {'word': '.', 'pos': 'PUNCT'}]\n"
          ],
          "name": "stdout"
        }
      ]
    },
    {
      "cell_type": "markdown",
      "metadata": {
        "id": "VybzN8QNKqXa"
      },
      "source": [
        "**[Step 3]** Check frequency dict (Optional, just for fun)"
      ]
    },
    {
      "cell_type": "code",
      "metadata": {
        "colab": {
          "base_uri": "https://localhost:8080/"
        },
        "id": "bXm0VFP3L2Mj",
        "outputId": "59d2b8fe-2bb6-4d38-ec87-179fc3025785"
      },
      "source": [
        "def freq_add(item, d):\n",
        "    if item not in d:\n",
        "        d[item] = 1\n",
        "    else:\n",
        "        d[item] += 1\n",
        "\n",
        "# iterate through sentences, get tabulate tags for each word\n",
        "def tag_freq(data_set):\n",
        "    freq = {}\n",
        "    for sent in data_set:\n",
        "        for item in sent:\n",
        "            if item[\"word\"] not in freq:\n",
        "                freq[item[\"word\"]] = {}\n",
        "            freq_add(item[\"pos\"], freq[item[\"word\"]])\n",
        "\n",
        "    return (freq)\n",
        "\n",
        "#create frequency dic\n",
        "word_tags = tag_freq(input_data)\n",
        "\n",
        "#check\n",
        "print(word_tags[\"사람\"]) #'human' in Korean\n",
        "print(word_tags[\"사랑\"]) #'love' in Korean\n",
        "print(word_tags[\"가\"]) #ambiguous without context, 'go', 'aux' for sub\n",
        "print(word_tags[\"나는\"]) #ambiguous without context, mostly 'I' but sometime 'fly'"
      ],
      "execution_count": null,
      "outputs": [
        {
          "output_type": "stream",
          "text": [
            "{'NOUN': 38}\n",
            "{'NOUN': 4}\n",
            "{'ADP': 68, 'SCONJ': 2, 'PROPN': 1, 'VERB': 1, 'AUX': 1}\n",
            "{'VERB': 22, 'PRON': 264}\n"
          ],
          "name": "stdout"
        }
      ]
    },
    {
      "cell_type": "markdown",
      "metadata": {
        "id": "oSeyp7AVWiLk"
      },
      "source": [
        "**[Step 4]** Format the data for scikit-learn and extract features\n",
        "1. Add some features\n",
        "2. Flat the list"
      ]
    },
    {
      "cell_type": "code",
      "metadata": {
        "id": "yMnd1DkuXOba"
      },
      "source": [
        "def simple_features(input_sent, idx, token):\n",
        "\n",
        "  features = {}\n",
        "  features[\"word\"] = token[\"word\"]\n",
        "  features[\"pos\"] = token[\"pos\"]\n",
        "\n",
        "  if idx == 0:\n",
        "      features[\"prev_pos\"] = \"<start>\"\n",
        "      features[\"prev_prev_pos\"] = \"<start>_<start>\"\n",
        "\n",
        "  elif idx == 1:\n",
        "      features[\"prev_pos\"] = input_sent[idx-1][\"pos\"]\n",
        "      features[\"prev_prev_pos\"] = \"<start>_\"+ input_sent[idx-1][\"pos\"]\n",
        "      features[\"prev_word\"] = input_sent[idx-1][\"word\"]\n",
        "\n",
        "  else:\n",
        "      features[\"prev_pos\"] = input_sent[idx-1][\"pos\"]\n",
        "      features[\"prev_prev_pos\"] = input_sent[idx-2][\"pos\"]\n",
        "\n",
        "  features[\"suffix_tg\"] = token[\"word\"][-2:]\n",
        "\n",
        "  return (features)"
      ],
      "execution_count": null,
      "outputs": []
    },
    {
      "cell_type": "code",
      "metadata": {
        "id": "ZpFsobMIcSne"
      },
      "source": [
        "def feature_extractor(input_data): \n",
        "\tfeature_list = [] \n",
        "\tfor sent in input_data: \n",
        "\t\tfor idx, token in enumerate(sent): \n",
        "\t\t\tfeature_list.append(simple_features(sent,idx,token)) \n",
        "\treturn(feature_list)\n",
        "\n",
        "def extract_pos(input_data):\n",
        "\tpos_list = []\n",
        "\tfor sent in input_data:\n",
        "\t\tfor token in sent:\n",
        "\t\t\tpos_list.append(token[\"pos\"])\n",
        "\treturn(pos_list)\n",
        "\n",
        "def extract_words(input_data):\n",
        "\tword_list = []\n",
        "\tfor sent in input_data:\n",
        "\t\tfor token in sent:\n",
        "\t\t\tword_list.append(token[\"word\"])\n",
        "\treturn(word_list)\n",
        "\n",
        "flat_words = extract_words(input_data)\n",
        "flat_pos = extract_pos(input_data)\n",
        "flat_features = feature_extractor(input_data)"
      ],
      "execution_count": null,
      "outputs": []
    },
    {
      "cell_type": "code",
      "metadata": {
        "colab": {
          "base_uri": "https://localhost:8080/"
        },
        "id": "VoodUaGMdRo0",
        "outputId": "53e5f3f5-29e3-47ea-cd92-f5724966e50f"
      },
      "source": [
        "for idx, x in enumerate(flat_words[50:60]):\n",
        "  print(x, flat_pos[idx], flat_features[idx])"
      ],
      "execution_count": null,
      "outputs": [
        {
          "output_type": "stream",
          "text": [
            "생명력이 CCONJ {'word': '하기야', 'pos': 'CCONJ', 'prev_pos': '<start>', 'prev_prev_pos': '<start>_<start>', 'suffix_tg': '기야'}\n",
            "있어서 ADV {'word': '짐승도', 'pos': 'ADV', 'prev_pos': 'CCONJ', 'prev_prev_pos': '<start>_CCONJ', 'prev_word': '하기야', 'suffix_tg': '승도'}\n",
            "뽑기만 ADV {'word': '잘', 'pos': 'ADV', 'prev_pos': 'ADV', 'prev_prev_pos': 'CCONJ', 'suffix_tg': '잘'}\n",
            "하고 ADV {'word': '가르치기만', 'pos': 'ADV', 'prev_pos': 'ADV', 'prev_prev_pos': 'ADV', 'suffix_tg': '기만'}\n",
            "그냥 SCONJ {'word': '하면', 'pos': 'SCONJ', 'prev_pos': 'ADV', 'prev_prev_pos': 'ADV', 'suffix_tg': '하면'}\n",
            "두면 DET {'word': '어느', 'pos': 'DET', 'prev_pos': 'SCONJ', 'prev_prev_pos': 'ADV', 'suffix_tg': '어느'}\n",
            "더 NOUN {'word': '정도는', 'pos': 'NOUN', 'prev_pos': 'DET', 'prev_prev_pos': 'SCONJ', 'suffix_tg': '도는'}\n",
            "무성하게 VERB {'word': '순치될', 'pos': 'VERB', 'prev_pos': 'NOUN', 'prev_prev_pos': 'DET', 'suffix_tg': '치될'}\n",
            "자라기 NOUN {'word': '수', 'pos': 'NOUN', 'prev_pos': 'VERB', 'prev_prev_pos': 'NOUN', 'suffix_tg': '수'}\n",
            "마련이다 ADJ {'word': '있다', 'pos': 'ADJ', 'prev_pos': 'NOUN', 'prev_prev_pos': 'VERB', 'suffix_tg': '있다'}\n"
          ],
          "name": "stdout"
        }
      ]
    },
    {
      "cell_type": "code",
      "metadata": {
        "colab": {
          "base_uri": "https://localhost:8080/"
        },
        "id": "kol12yF1LMNo",
        "outputId": "961d60da-9a8c-42ee-e0cb-b9ff5b6e763c"
      },
      "source": [
        "# Training and test sets\n",
        "\n",
        "print(len(flat_words)*.67) #198602\n",
        "\n",
        "#training data\n",
        "train_words = flat_words[:198602]\n",
        "train_pos = flat_pos[:198602]\n",
        "train_features = flat_features[:198602]\n",
        "\n",
        "#test data\n",
        "test_words = flat_words[198602:]\n",
        "test_pos = flat_pos[198602:]\n",
        "test_features = flat_features[198602:]"
      ],
      "execution_count": null,
      "outputs": [
        {
          "output_type": "stream",
          "text": [
            "198602.74000000002\n"
          ],
          "name": "stdout"
        }
      ]
    },
    {
      "cell_type": "markdown",
      "metadata": {
        "id": "oRmQ8jhnihyJ"
      },
      "source": [
        "**[Step 5]** Use scikit-learn for POS tagging"
      ]
    },
    {
      "cell_type": "code",
      "metadata": {
        "colab": {
          "base_uri": "https://localhost:8080/"
        },
        "id": "VVbxkJxZjEdr",
        "outputId": "a045b529-a704-4a7a-c43e-76599bb4f582"
      },
      "source": [
        "from sklearn.feature_extraction import DictVectorizer\n",
        "vec = DictVectorizer(sparse = True)\n",
        "\n",
        "train_features_vec = vec.fit_transform(train_features) #.fit: train\n",
        "\n",
        "test_features_vec = vec.transform(test_features)\n",
        "\n",
        "def pos_cats(pos_list):\n",
        "\tcat_d = {}\n",
        "\tfor idx, x in enumerate(list(set(pos_list))):\n",
        "\t\tcat_d[x] = idx\n",
        "\treturn(cat_d)\n",
        "\n",
        "pos_d = pos_cats(flat_pos)\n",
        "\n",
        "def convert_pos(pos_list,pos_d):\n",
        "\tconverted = []\n",
        "\tfor x in pos_list:\n",
        "\t\tconverted.append(pos_d[x])\n",
        "\treturn(converted)\n",
        "\n",
        "train_pos_num = convert_pos(train_pos,pos_d)\n",
        "\n",
        "print(pos_d)"
      ],
      "execution_count": null,
      "outputs": [
        {
          "output_type": "stream",
          "text": [
            "{'ADJ': 0, 'INTJ': 1, 'PART': 2, 'SCONJ': 3, 'AUX': 4, 'ADV': 5, 'NUM': 6, 'DET': 7, 'CCONJ': 8, 'PUNCT': 9, 'PRON': 10, 'SYM': 11, 'X': 12, 'VERB': 13, 'ADP': 14, 'NOUN': 15, 'PROPN': 16}\n"
          ],
          "name": "stdout"
        }
      ]
    },
    {
      "cell_type": "code",
      "metadata": {
        "colab": {
          "base_uri": "https://localhost:8080/"
        },
        "id": "KA969t63jZdr",
        "outputId": "a0ee076c-8258-4dbe-f58f-337799ea54da"
      },
      "source": [
        "train_pos_num[:10]"
      ],
      "execution_count": null,
      "outputs": [
        {
          "output_type": "execute_result",
          "data": {
            "text/plain": [
              "[8, 5, 5, 5, 3, 7, 15, 13, 15, 0]"
            ]
          },
          "metadata": {
            "tags": []
          },
          "execution_count": 159
        }
      ]
    },
    {
      "cell_type": "code",
      "metadata": {
        "colab": {
          "base_uri": "https://localhost:8080/"
        },
        "id": "-8kkO9gRjeBk",
        "outputId": "059c9b0b-c29a-4111-eb23-05e3b7ed9ca5"
      },
      "source": [
        "from sklearn import tree \n",
        "\n",
        "clf = tree.DecisionTreeClassifier() \n",
        "clf = clf.fit(train_features_vec,train_pos_num) \n",
        "\n",
        "pred1 = clf.predict(test_features_vec) \n",
        "\n",
        "print(pred1[:10])"
      ],
      "execution_count": null,
      "outputs": [
        {
          "output_type": "stream",
          "text": [
            "[ 0 15 15 13  5 13  5  9 13 15]\n"
          ],
          "name": "stdout"
        }
      ]
    },
    {
      "cell_type": "code",
      "metadata": {
        "colab": {
          "base_uri": "https://localhost:8080/"
        },
        "id": "M35j0naZjmVc",
        "outputId": "f2672f78-4ec9-4f2e-87eb-c8f154de69fe"
      },
      "source": [
        "rev_pos_d = {value : key for (key, value) in pos_d.items()}\n",
        "\n",
        "def extract_pred_pos(pred_array,rev_d):\n",
        "\tpredicted = []\n",
        "\tfor x in pred_array:\n",
        "\t\tpredicted.append(rev_d[x])\n",
        "\treturn(predicted)\n",
        "\n",
        "pred1_pos = extract_pred_pos(pred1,rev_pos_d)\n",
        "pred1_pos[:10]"
      ],
      "execution_count": null,
      "outputs": [
        {
          "output_type": "execute_result",
          "data": {
            "text/plain": [
              "['ADJ', 'NOUN', 'NOUN', 'VERB', 'ADV', 'VERB', 'ADV', 'PUNCT', 'VERB', 'NOUN']"
            ]
          },
          "metadata": {
            "tags": []
          },
          "execution_count": 161
        }
      ]
    },
    {
      "cell_type": "code",
      "metadata": {
        "colab": {
          "base_uri": "https://localhost:8080/"
        },
        "id": "hhHZLOVkjrBx",
        "outputId": "617d63c5-eb3d-4711-edf5-56290819cd01"
      },
      "source": [
        "def pred_accuracy(pred,gold):\n",
        "\tc = 0\n",
        "\tf = 0\n",
        "\n",
        "\tfor idx, x in enumerate(pred):\n",
        "\t\t#print(x,gold[idx][\"pos\"])\n",
        "\t\tif x == gold[idx]:\n",
        "\t\t\tc+=1\n",
        "\t\telse:\n",
        "\t\t\tf+=1\n",
        "\treturn(c/(c+f))\n",
        "\n",
        "pred_accuracy(pred1_pos,test_pos)"
      ],
      "execution_count": null,
      "outputs": [
        {
          "output_type": "execute_result",
          "data": {
            "text/plain": [
              "1.0"
            ]
          },
          "metadata": {
            "tags": []
          },
          "execution_count": 162
        }
      ]
    }
  ]
}